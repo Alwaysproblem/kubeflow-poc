{
 "cells": [
  {
   "cell_type": "code",
   "execution_count": 8,
   "metadata": {},
   "outputs": [],
   "source": [
    "# This notebok contains utility functions to be reused in other notebooks\n",
    "#\n",
    "# To import the functions use `run` magic: `%run -i 'commons.ipynb'`\n",
    "\n",
    "def get_dataset(rank=0, size=1):\n",
    "    import tensorflow as tf\n",
    "    (x_train, y_train), (x_test, y_test) = tf.keras.datasets.mnist.load_data('MNIST-data-%d' % rank)\n",
    "    x_train = x_train[rank::size]\n",
    "    y_train = y_train[rank::size]\n",
    "    x_test = x_test[rank::size]\n",
    "    y_test = y_test[rank::size]\n",
    "    # Normalizing the RGB codes by dividing it to the max RGB value.\n",
    "    x_train, x_test = x_train / 255.0, x_test / 255.0\n",
    "    return (x_train, y_train), (x_test, y_test)\n",
    "\n",
    "def get_model(num_classes=10):\n",
    "    import tensorflow as tf\n",
    "    model = tf.keras.models.Sequential([\n",
    "        tf.keras.layers.Flatten(input_shape=(28, 28)),\n",
    "        tf.keras.layers.Dense(128, activation='relu'),\n",
    "        tf.keras.layers.Dropout(0.2),\n",
    "        tf.keras.layers.Dense(10, activation='softmax')\n",
    "    ])\n",
    "    \n",
    "    return model\n",
    "\n",
    "def deserialize(model_bytes):\n",
    "    import horovod.tensorflow.keras as hvd\n",
    "    import h5py\n",
    "    import io\n",
    "    bio = io.BytesIO(model_bytes)\n",
    "    with h5py.File(bio,'a') as f:\n",
    "        return hvd.load_model(f)"
   ]
  },
  {
   "cell_type": "code",
   "execution_count": 9,
   "metadata": {},
   "outputs": [],
   "source": [
    "# Utility functions for demo purposes\n",
    "\n",
    "import matplotlib.pyplot as plt\n",
    "%matplotlib inline\n",
    "\n",
    "def plot_mnist_sample(x_train, y_train):\n",
    "    plt.rc(\"image\", cmap=\"binary\")\n",
    "\n",
    "    for i in range(10):\n",
    "        plt.subplot(2, 5, i + 1)\n",
    "        plt.imshow(x_train[i].reshape(28, 28))\n",
    "        plt.xticks(())\n",
    "        plt.yticks(())\n",
    "    plt.tight_layout()\n",
    "    plt.show()\n",
    "\n",
    "    print(y_train[:5])\n",
    "    print(y_train[5:10])\n",
    "\n",
    "def display_image(x_test, image_index):\n",
    "    plt.imshow(x_test[image_index].reshape(28, 28),cmap='binary')\n",
    "\n",
    "def predict_number(model, x_test, image_index):\n",
    "    pred = model.predict(x_test[image_index:image_index+1])\n",
    "    print(pred.argmax())"
   ]
  },
  {
   "cell_type": "code",
   "execution_count": null,
   "metadata": {},
   "outputs": [],
   "source": []
  }
 ],
 "metadata": {
  "kernelspec": {
   "display_name": "Python 3",
   "language": "python",
   "name": "python3"
  },
  "language_info": {
   "codemirror_mode": {
    "name": "ipython",
    "version": 3
   },
   "file_extension": ".py",
   "mimetype": "text/x-python",
   "name": "python",
   "nbconvert_exporter": "python",
   "pygments_lexer": "ipython3",
   "version": "3.6.9"
  }
 },
 "nbformat": 4,
 "nbformat_minor": 2
}
