{
 "cells": [
  {
   "cell_type": "code",
   "execution_count": null,
   "metadata": {},
   "outputs": [],
   "source": [
    "%run -i 'commons.ipynb'"
   ]
  },
  {
   "cell_type": "code",
   "execution_count": null,
   "metadata": {},
   "outputs": [],
   "source": [
    "import socket\n",
    "import pyspark\n",
    "from pyspark.sql import SparkSession\n",
    "\n",
    "localIpAddress = socket.gethostbyname(socket.gethostname())\n",
    "\n",
    "conf = pyspark.SparkConf().setAll([\n",
    "    ('spark.master', 'k8s://https://kubernetes.default.svc.cluster.local:443'),\n",
    "    (\"spark.driver.host\", localIpAddress),\n",
    "    (\"spark.kubernetes.namespace\", \"spark\"),\n",
    "    (\"spark.executor.instances\", 5),\n",
    "    (\"spark.kubernetes.container.image\", \"akirillov/spark:spark-2.4.3-hadoop-2.9-k8s-horovod\")])\n",
    "\n",
    "spark = SparkSession.builder.appName(\"HorovodOnSpark\").config(conf=conf).getOrCreate()"
   ]
  },
  {
   "cell_type": "code",
   "execution_count": null,
   "metadata": {},
   "outputs": [],
   "source": [
    "from pyspark.sql import HiveContext, SQLContext, Row\n",
    "from pyspark.sql.types import *\n",
    "\n",
    "train = spark.read.csv(\"s3a://akirillov-dev/mnist_csv/mnist_train.csv\", header=True, inferSchema=True)\n",
    "test = spark.read.csv(\"s3a://akirillov-dev/mnist_csv/mnist_test.csv\", header=True, inferSchema=True)\n",
    "\n",
    "train.printSchema()"
   ]
  },
  {
   "cell_type": "code",
   "execution_count": null,
   "metadata": {},
   "outputs": [],
   "source": [
    "from pyspark.ml.feature import VectorAssembler\n",
    "\n",
    "assembler = VectorAssembler(\n",
    "    inputCols=[\"{}x{}\".format(i,j) for i in range(1,29) for j in range (1,29)],\n",
    "    outputCol=\"features\")\n",
    "\n",
    "labeledPoints = assembler.transform(train).select(\"label\", \"features\")"
   ]
  },
  {
   "cell_type": "code",
   "execution_count": null,
   "metadata": {},
   "outputs": [],
   "source": [
    "import pandas as pd\n",
    "import numpy as np\n",
    "\n",
    "pandaDf = labeledPoints.toPandas()"
   ]
  },
  {
   "cell_type": "code",
   "execution_count": null,
   "metadata": {},
   "outputs": [],
   "source": [
    "(x_train, y_train), (x_test, y_test) = tf.keras.datasets.mnist.load_data()\n",
    "print(x_train.shape)\n",
    "print(y_train.shape)"
   ]
  },
  {
   "cell_type": "code",
   "execution_count": null,
   "metadata": {},
   "outputs": [],
   "source": []
  }
 ],
 "metadata": {
  "kernelspec": {
   "display_name": "Python 3",
   "language": "python",
   "name": "python3"
  },
  "language_info": {
   "codemirror_mode": {
    "name": "ipython",
    "version": 3
   },
   "file_extension": ".py",
   "mimetype": "text/x-python",
   "name": "python",
   "nbconvert_exporter": "python",
   "pygments_lexer": "ipython3",
   "version": "3.6.9"
  }
 },
 "nbformat": 4,
 "nbformat_minor": 2
}
