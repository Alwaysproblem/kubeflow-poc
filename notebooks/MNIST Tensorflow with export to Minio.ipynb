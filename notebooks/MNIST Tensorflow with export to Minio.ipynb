{
 "cells": [
  {
   "cell_type": "code",
   "execution_count": null,
   "metadata": {},
   "outputs": [],
   "source": [
    "%run -i 'commons.ipynb'\n",
    "import tensorflow as tf\n",
    "\n",
    "(x_train, y_train), (x_test, y_test) = tf.keras.datasets.mnist.load_data()\n",
    "# Normalizing the RGB codes by dividing it to the max RGB value.\n",
    "x_train, x_test = x_train / 255.0, x_test / 255.0\n",
    "\n",
    "plot_mnist_sample(x_train, y_train)"
   ]
  },
  {
   "cell_type": "code",
   "execution_count": null,
   "metadata": {},
   "outputs": [],
   "source": [
    "model = tf.keras.models.Sequential([\n",
    "        tf.keras.layers.Flatten(input_shape=(28, 28)),\n",
    "        tf.keras.layers.Dense(128, activation='relu'),\n",
    "        tf.keras.layers.Dropout(0.2),\n",
    "        tf.keras.layers.Dense(10, activation='softmax')\n",
    "    ])\n",
    "\n",
    "model.compile(optimizer='adam',\n",
    "              loss='sparse_categorical_crossentropy',\n",
    "              metrics=['accuracy'])\n",
    "\n",
    "model.fit(x_train, y_train, epochs=10)\n",
    "model.evaluate(x_test,  y_test, verbose=2)"
   ]
  },
  {
   "cell_type": "code",
   "execution_count": null,
   "metadata": {},
   "outputs": [],
   "source": [
    "%env S3_USE_HTTPS=0 #set to 0 for default minio installs\n",
    "%env S3_ENDPOINT=minio-service.kubeflow:9000\n",
    "%env AWS_ENDPOINT_URL=http://minio-service.kubeflow:9000\n",
    "%env AWS_ACCESS_KEY_ID=minio\n",
    "%env AWS_SECRET_ACCESS_KEY=minio123"
   ]
  },
  {
   "cell_type": "code",
   "execution_count": null,
   "metadata": {},
   "outputs": [],
   "source": [
    "import boto3\n",
    "import tensorflow as tf\n",
    "\n",
    "export_bucket = \"models\"\n",
    "export_path = \"s3://{}/mnist_export/2\".format(export_bucket)\n",
    "\n",
    "# Checking existing buckets and creeating an export bucket if it doesn't exist\n",
    "s3 = boto3.client('s3',\n",
    "                  endpoint_url='http://minio-service.kubeflow:9000',\n",
    "                  aws_access_key_id='minio',\n",
    "                  aws_secret_access_key='minio123')\n",
    "\n",
    "response = s3.list_buckets()\n",
    "export_bucket_exists = False\n",
    "\n",
    "for bucket in response['Buckets']:\n",
    "    print(bucket['Name'])\n",
    "    if bucket['Name'] == export_bucket:\n",
    "        export_bucket_exists = True\n",
    "\n",
    "if not export_bucket_exists:\n",
    "    s3.create_bucket(ACL=\"public-read-write\", Bucket=export_bucket)\n",
    "    \n",
    "# Saving TF model to S3\n",
    "tf.keras.models.save_model(model=model, filepath=export_path, save_format=\"tf\")\n",
    "\n",
    "response = s3.list_objects(Bucket='models')\n",
    "for file in response['Contents']:\n",
    "    print(file['Key'])"
   ]
  },
  {
   "cell_type": "code",
   "execution_count": null,
   "metadata": {},
   "outputs": [],
   "source": [
    "imported_model = tf.keras.models.load_model(export_path)"
   ]
  },
  {
   "cell_type": "code",
   "execution_count": null,
   "metadata": {},
   "outputs": [],
   "source": [
    "image_index = 1005\n",
    "\n",
    "display_image(x_train, image_index)"
   ]
  },
  {
   "cell_type": "code",
   "execution_count": null,
   "metadata": {},
   "outputs": [],
   "source": [
    "predict_number(imported_model, x_test, image_index)"
   ]
  }
 ],
 "metadata": {
  "kernelspec": {
   "display_name": "Python 3",
   "language": "python",
   "name": "python3"
  },
  "language_info": {
   "codemirror_mode": {
    "name": "ipython",
    "version": 3
   },
   "file_extension": ".py",
   "mimetype": "text/x-python",
   "name": "python",
   "nbconvert_exporter": "python",
   "pygments_lexer": "ipython3",
   "version": "3.6.9"
  }
 },
 "nbformat": 4,
 "nbformat_minor": 2
}
