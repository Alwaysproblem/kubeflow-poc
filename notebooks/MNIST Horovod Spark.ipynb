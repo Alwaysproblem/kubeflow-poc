{
 "cells": [
  {
   "cell_type": "code",
   "execution_count": null,
   "metadata": {},
   "outputs": [],
   "source": [
    "%run -i 'commons.ipynb'"
   ]
  },
  {
   "cell_type": "code",
   "execution_count": null,
   "metadata": {},
   "outputs": [],
   "source": [
    "def train_hvd(num_classes=10, learning_rate=0.001, batch_size=128, epochs=10):\n",
    "    import os\n",
    "    import tempfile\n",
    "    import tensorflow as tf\n",
    "    import horovod.tensorflow.keras as hvd\n",
    "\n",
    "    hvd.init()\n",
    "    \n",
    "    (x_train, y_train), (x_test, y_test) = get_dataset(hvd.rank(), hvd.size())\n",
    "    model = get_model(num_classes)\n",
    "\n",
    "    # Horovod: add Horovod DistributedOptimizer.\n",
    "    optimizer = hvd.DistributedOptimizer(tf.optimizers.Adam(lr=learning_rate * hvd.size()))\n",
    "\n",
    "    model.compile(optimizer=optimizer,\n",
    "                loss='sparse_categorical_crossentropy',\n",
    "                experimental_run_tf_function=False,\n",
    "                metrics=['accuracy'])\n",
    "    \n",
    "    callbacks = [\n",
    "      hvd.callbacks.BroadcastGlobalVariablesCallback(0),\n",
    "      hvd.callbacks.LearningRateWarmupCallback(warmup_epochs=3, verbose=1),\n",
    "    ]\n",
    "\n",
    "    # Horovod: save checkpoints only on worker 0 to prevent other workers from corrupting them.\n",
    "    # Model checkpoint location.\n",
    "    ckpt_dir = tempfile.mkdtemp()\n",
    "    ckpt_file = os.path.join(ckpt_dir, 'checkpoint.h5')\n",
    "    \n",
    "    if hvd.rank() == 0:\n",
    "        callbacks.append(tf.keras.callbacks.ModelCheckpoint(ckpt_file, monitor='accuracy', mode='max', save_best_only=True))\n",
    "\n",
    "    history = model.fit(x_train, y_train,\n",
    "            batch_size=batch_size,\n",
    "            callbacks=callbacks,\n",
    "            epochs=epochs,\n",
    "            verbose=2,\n",
    "            validation_data=(x_test, y_test))\n",
    "\n",
    "    if hvd.rank() == 0:\n",
    "        with open(ckpt_file, 'rb') as f:\n",
    "            #returning a tuple of history and model bytes\n",
    "            return history.history, f.read()"
   ]
  },
  {
   "cell_type": "code",
   "execution_count": null,
   "metadata": {},
   "outputs": [],
   "source": [
    "import socket\n",
    "import pyspark\n",
    "from pyspark.sql import SparkSession\n",
    "\n",
    "localIpAddress = socket.gethostbyname(socket.gethostname())\n",
    "\n",
    "conf = pyspark.SparkConf().setAll([\n",
    "    ('spark.master', 'k8s://https://kubernetes.default.svc.cluster.local:443'),\n",
    "    (\"spark.driver.host\", localIpAddress),\n",
    "    (\"spark.kubernetes.namespace\", \"spark\"),\n",
    "    (\"spark.executor.instances\", 5),\n",
    "    (\"spark.kubernetes.container.image\", \"akirillov/spark:spark-2.4.3-hadoop-2.9-k8s-horovod\")])\n",
    "\n",
    "spark = SparkSession.builder.appName(\"HorovodOnSpark\").config(conf=conf).getOrCreate()"
   ]
  },
  {
   "cell_type": "code",
   "execution_count": null,
   "metadata": {},
   "outputs": [],
   "source": [
    "# Horovod: run training.\n",
    "import horovod.spark\n",
    "model_bytes = horovod.spark.run(train_hvd, verbose=2)[0][1]\n",
    "\n",
    "model = deserialize(model_bytes)\n",
    "model.evaluate(x_test,  y_test, verbose=2)"
   ]
  },
  {
   "cell_type": "code",
   "execution_count": null,
   "metadata": {},
   "outputs": [],
   "source": [
    "spark.stop()"
   ]
  },
  {
   "cell_type": "code",
   "execution_count": null,
   "metadata": {},
   "outputs": [],
   "source": [
    "(x_train, y_train), (x_test, y_test)  = get_dataset()\n",
    "\n",
    "image_index = 4443\n",
    "display_image(x_test, image_index)"
   ]
  },
  {
   "cell_type": "code",
   "execution_count": null,
   "metadata": {},
   "outputs": [],
   "source": [
    "model = deserialize(model_bytes)\n",
    "predict_number(model, x_test, image_index)"
   ]
  }
 ],
 "metadata": {
  "kernelspec": {
   "display_name": "Python 3",
   "language": "python",
   "name": "python3"
  },
  "language_info": {
   "codemirror_mode": {
    "name": "ipython",
    "version": 3
   },
   "file_extension": ".py",
   "mimetype": "text/x-python",
   "name": "python",
   "nbconvert_exporter": "python",
   "pygments_lexer": "ipython3",
   "version": "3.6.9"
  }
 },
 "nbformat": 4,
 "nbformat_minor": 2
}
