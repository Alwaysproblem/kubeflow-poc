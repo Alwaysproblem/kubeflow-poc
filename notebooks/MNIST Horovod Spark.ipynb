{
 "cells": [
  {
   "cell_type": "code",
   "execution_count": null,
   "metadata": {},
   "outputs": [],
   "source": [
    "import tensorflow as tf\n",
    "import horovod.tensorflow.keras as hvd\n",
    "import horovod.spark\n",
    "import pyspark\n",
    "from pyspark.sql import SparkSession\n",
    "\n",
    "import matplotlib.pyplot as plt\n",
    "%matplotlib inline"
   ]
  },
  {
   "cell_type": "code",
   "execution_count": null,
   "metadata": {},
   "outputs": [],
   "source": [
    "def train_function(model):\n",
    "    import tensorflow as tf\n",
    "    import horovod.tensorflow.keras as hvd\n",
    "    import horovod.spark\n",
    "    \n",
    "    hvd.init()\n",
    "    (mnist_images, mnist_labels), _ = \\\n",
    "    tf.keras.datasets.mnist.load_data(path='mnist-%d.npz' % hvd.rank())\n",
    "\n",
    "    dataset = tf.data.Dataset.from_tensor_slices(\n",
    "        (tf.cast(mnist_images[..., tf.newaxis] / 255.0, tf.float32),\n",
    "                 tf.cast(mnist_labels, tf.int64))\n",
    "    )\n",
    "    dataset = dataset.repeat().shuffle(10000).batch(128)\n",
    "    \n",
    "    opt = tf.optimizers.Adam(0.001 * hvd.size())\n",
    "    opt = hvd.DistributedOptimizer(opt)\n",
    "    \n",
    "    callbacks = [\n",
    "        hvd.callbacks.BroadcastGlobalVariablesCallback(0),\n",
    "        hvd.callbacks.MetricAverageCallback(),\n",
    "        hvd.callbacks.LearningRateWarmupCallback(warmup_epochs=3, verbose=1),\n",
    "    ]\n",
    "    \n",
    "    # Horovod: save checkpoints only on worker 0 to prevent other workers from corrupting them.\n",
    "    if hvd.rank() == 0:\n",
    "        callbacks.append(tf.keras.callbacks.ModelCheckpoint('./chckpnt-{epoch}.h5'))\n",
    "    \n",
    "    model.fit(dataset, steps_per_epoch=500 // hvd.size(), callbacks=callbacks, epochs=24, verbose=verbose)\n",
    "    return model"
   ]
  },
  {
   "cell_type": "code",
   "execution_count": null,
   "metadata": {},
   "outputs": [],
   "source": [
    "model = tf.keras.models.Sequential([\n",
    "  tf.keras.layers.Flatten(input_shape=(28, 28)),\n",
    "  tf.keras.layers.Dense(128, activation='relu'),\n",
    "  tf.keras.layers.Dropout(0.2),\n",
    "  tf.keras.layers.Dense(10, activation='softmax')\n",
    "])\n",
    "\n",
    "# Horovod: add Horovod DistributedOptimizer. Now running in non-distributed mode\n",
    "opt = hvd.DistributedOptimizer(tf.optimizers.Adam())\n",
    "\n",
    "model.compile(optimizer=opt,\n",
    "              loss=tf.losses.SparseCategoricalCrossentropy(),\n",
    "              experimental_run_tf_function=False,\n",
    "              metrics=['accuracy'])"
   ]
  },
  {
   "cell_type": "code",
   "execution_count": null,
   "metadata": {},
   "outputs": [],
   "source": [
    "import socket\n",
    "\n",
    "localIpAddress = socket.gethostbyname(socket.gethostname())\n",
    "\n",
    "conf = pyspark.SparkConf().setAll([\n",
    "    ('spark.master', 'k8s://https://kubernetes.default.svc.cluster.local:443'),\n",
    "    (\"spark.driver.host\", localIpAddress),\n",
    "    (\"spark.kubernetes.namespace\", \"spark\"),\n",
    "    (\"spark.kubernetes.container.image\", \"akirillov/spark:spark-2.4.3-hadoop-2.9-k8s-horovod\")])\n",
    "\n",
    "spark = SparkSession.builder.appName(\"HorovodOnSpark\").config(conf=conf).getOrCreate()\n",
    "\n",
    "# Horovod: run training.\n",
    "model = horovod.spark.run(train_function, args=(model,), num_proc=2, verbose=2)\n",
    "\n",
    "# spark.stop()"
   ]
  },
  {
   "cell_type": "code",
   "execution_count": null,
   "metadata": {},
   "outputs": [],
   "source": [
    "spark.stop()"
   ]
  }
 ],
 "metadata": {
  "kernelspec": {
   "display_name": "Python 3",
   "language": "python",
   "name": "python3"
  },
  "language_info": {
   "codemirror_mode": {
    "name": "ipython",
    "version": 3
   },
   "file_extension": ".py",
   "mimetype": "text/x-python",
   "name": "python",
   "nbconvert_exporter": "python",
   "pygments_lexer": "ipython3",
   "version": "3.6.8"
  }
 },
 "nbformat": 4,
 "nbformat_minor": 2
}
