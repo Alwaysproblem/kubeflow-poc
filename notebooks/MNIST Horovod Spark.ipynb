{
 "cells": [
  {
   "cell_type": "code",
   "execution_count": null,
   "metadata": {},
   "outputs": [],
   "source": [
    "def get_dataset(rank=0, size=1):\n",
    "    import tensorflow as tf\n",
    "    (x_train, y_train), (x_test, y_test) = tf.keras.datasets.mnist.load_data('MNIST-data-%d' % rank)\n",
    "    x_train = x_train[rank::size]\n",
    "    y_train = y_train[rank::size]\n",
    "    x_test = x_test[rank::size]\n",
    "    y_test = y_test[rank::size]\n",
    "    # Normalizing the RGB codes by dividing it to the max RGB value.\n",
    "    x_train, x_test = x_train / 255.0, x_test / 255.0\n",
    "    return (x_train, y_train), (x_test, y_test)"
   ]
  },
  {
   "cell_type": "code",
   "execution_count": null,
   "metadata": {},
   "outputs": [],
   "source": [
    "def get_model(num_classes=10):\n",
    "    import tensorflow as tf\n",
    "    model = tf.keras.models.Sequential([\n",
    "        tf.keras.layers.Flatten(input_shape=(28, 28)),\n",
    "        tf.keras.layers.Dense(128, activation='relu'),\n",
    "        tf.keras.layers.Dropout(0.2),\n",
    "        tf.keras.layers.Dense(10, activation='softmax')\n",
    "    ])\n",
    "    \n",
    "    return model"
   ]
  },
  {
   "cell_type": "code",
   "execution_count": null,
   "metadata": {},
   "outputs": [],
   "source": [
    "def train_hvd(num_classes=10, learning_rate=0.001, batch_size=128, epochs=10):\n",
    "    import os\n",
    "    import tempfile\n",
    "    import tensorflow as tf\n",
    "    import horovod.tensorflow.keras as hvd\n",
    "\n",
    "    hvd.init()\n",
    "    \n",
    "    (x_train, y_train), (x_test, y_test) = get_dataset(hvd.rank(), hvd.size())\n",
    "    model = get_model(num_classes)\n",
    "\n",
    "    # Horovod: add Horovod DistributedOptimizer. Now running in non-distributed mode\n",
    "    optimizer = hvd.DistributedOptimizer(tf.optimizers.Adam(lr=learning_rate * hvd.size()))\n",
    "\n",
    "    model.compile(optimizer=optimizer,\n",
    "                loss='sparse_categorical_crossentropy',\n",
    "                experimental_run_tf_function=False,\n",
    "                metrics=['accuracy'])\n",
    "    \n",
    "    callbacks = [\n",
    "      # Horovod: broadcast initial variable states from rank 0 to all other processes.\n",
    "      # This is necessary to ensure consistent initialization of all workers when\n",
    "      # training is started with random weights or restored from a checkpoint.\n",
    "      hvd.callbacks.BroadcastGlobalVariablesCallback(0),\n",
    "      # Horovod: using `lr = 1.0 * hvd.size()` from the very beginning leads to worse final\n",
    "      # accuracy. Scale the learning rate `lr = 1.0` ---> `lr = 1.0 * hvd.size()` during\n",
    "      # the first three epochs. See https://arxiv.org/abs/1706.02677 for details.\n",
    "      hvd.callbacks.LearningRateWarmupCallback(warmup_epochs=3, verbose=1),\n",
    "    ]\n",
    "\n",
    "    # Horovod: save checkpoints only on worker 0 to prevent other workers from corrupting them.\n",
    "    # Model checkpoint location.\n",
    "    ckpt_dir = tempfile.mkdtemp()\n",
    "    ckpt_file = os.path.join(ckpt_dir, 'checkpoint.h5')\n",
    "    \n",
    "    if hvd.rank() == 0:\n",
    "        callbacks.append(tf.keras.callbacks.ModelCheckpoint(ckpt_file, monitor='accuracy', mode='max', save_best_only=True))\n",
    "\n",
    "    history = model.fit(x_train, y_train,\n",
    "            batch_size=batch_size,\n",
    "            callbacks=callbacks,\n",
    "            epochs=epochs,\n",
    "            verbose=2,\n",
    "            validation_data=(x_test, y_test))\n",
    "\n",
    "    if hvd.rank() == 0:\n",
    "        with open(ckpt_file, 'rb') as f:\n",
    "            #returning a tuple of history and model bytes\n",
    "            return history.history, f.read()"
   ]
  },
  {
   "cell_type": "code",
   "execution_count": null,
   "metadata": {},
   "outputs": [],
   "source": [
    "import socket\n",
    "import pyspark\n",
    "from pyspark.sql import SparkSession\n",
    "import horovod.spark\n",
    "\n",
    "localIpAddress = socket.gethostbyname(socket.gethostname())\n",
    "\n",
    "conf = pyspark.SparkConf().setAll([\n",
    "    ('spark.master', 'k8s://https://kubernetes.default.svc.cluster.local:443'),\n",
    "    (\"spark.driver.host\", localIpAddress),\n",
    "    (\"spark.kubernetes.namespace\", \"spark\"),\n",
    "    (\"spark.executor.instances\", 5),\n",
    "    (\"spark.kubernetes.container.image\", \"akirillov/spark:spark-2.4.3-hadoop-2.9-k8s-horovod\")])\n",
    "\n",
    "spark = SparkSession.builder.appName(\"HorovodOnSpark\").config(conf=conf).getOrCreate()"
   ]
  },
  {
   "cell_type": "code",
   "execution_count": null,
   "metadata": {},
   "outputs": [],
   "source": [
    "# Horovod: run training.\n",
    "model_bytes = horovod.spark.run(train_hvd, verbose=2)[0][1]"
   ]
  },
  {
   "cell_type": "code",
   "execution_count": null,
   "metadata": {},
   "outputs": [],
   "source": [
    "spark.stop()"
   ]
  },
  {
   "cell_type": "code",
   "execution_count": null,
   "metadata": {},
   "outputs": [],
   "source": [
    "def deserialize(model_bytes):\n",
    "    import horovod.tensorflow.keras as hvd\n",
    "    import io\n",
    "    import h5py\n",
    "\n",
    "    bio = io.BytesIO(model_bytes)\n",
    "    with h5py.File(bio,'a') as f:\n",
    "        return hvd.load_model(f)"
   ]
  },
  {
   "cell_type": "code",
   "execution_count": null,
   "metadata": {},
   "outputs": [],
   "source": [
    "import matplotlib.pyplot as plt\n",
    "%matplotlib inline\n",
    "\n",
    "(x_train, y_train), (x_test, y_test)  = get_dataset()\n",
    "model = deserialize(model_bytes)\n",
    "\n",
    "image_index = 4443\n",
    "plt.imshow(x_test[image_index].reshape(28, 28),cmap='binary')\n",
    "\n",
    "pred = model.predict(x_test[image_index:image_index+1])\n",
    "print(pred.argmax())"
   ]
  }
 ],
 "metadata": {
  "kernelspec": {
   "display_name": "Python 3",
   "language": "python",
   "name": "python3"
  },
  "language_info": {
   "codemirror_mode": {
    "name": "ipython",
    "version": 3
   },
   "file_extension": ".py",
   "mimetype": "text/x-python",
   "name": "python",
   "nbconvert_exporter": "python",
   "pygments_lexer": "ipython3",
   "version": "3.6.8"
  }
 },
 "nbformat": 4,
 "nbformat_minor": 2
}
